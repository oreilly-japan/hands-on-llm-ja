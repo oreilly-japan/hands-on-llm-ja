{
  "nbformat": 4,
  "nbformat_minor": 0,
  "metadata": {
    "colab": {
      "provenance": []
    },
    "kernelspec": {
      "name": "python3",
      "display_name": "Python 3"
    },
    "language_info": {
      "name": "python"
    }
  },
  "cells": [
    {
      "cell_type": "markdown",
      "source": [
        "本ノートブックでは、[Gemini Developer API](https://ai.google.dev/)を用いて、第7章のReActエージェントを構築するコードを紹介します。"
      ],
      "metadata": {
        "id": "NyEalG0FehzP"
      }
    },
    {
      "cell_type": "code",
      "execution_count": 14,
      "metadata": {
        "id": "aQtoBIkLWwMP",
        "colab": {
          "base_uri": "https://localhost:8080/"
        },
        "outputId": "61a904ed-3a99-4c03-e896-41af87c81379"
      },
      "outputs": [
        {
          "output_type": "stream",
          "name": "stdout",
          "text": [
            "\u001b[?25l   \u001b[90m━━━━━━━━━━━━━━━━━━━━━━━━━━━━━━━━━━━━━━━━\u001b[0m \u001b[32m0.0/3.3 MB\u001b[0m \u001b[31m?\u001b[0m eta \u001b[36m-:--:--\u001b[0m\r\u001b[2K   \u001b[91m━━━━━\u001b[0m\u001b[90m╺\u001b[0m\u001b[90m━━━━━━━━━━━━━━━━━━━━━━━━━━━━━━━━━━\u001b[0m \u001b[32m0.5/3.3 MB\u001b[0m \u001b[31m13.3 MB/s\u001b[0m eta \u001b[36m0:00:01\u001b[0m\r\u001b[2K   \u001b[91m━━━━━━━━━━━━━━━━━━━━━━━━━━━━━━━━━━━━━━\u001b[0m\u001b[90m╺\u001b[0m\u001b[90m━\u001b[0m \u001b[32m3.1/3.3 MB\u001b[0m \u001b[31m45.7 MB/s\u001b[0m eta \u001b[36m0:00:01\u001b[0m\r\u001b[2K   \u001b[90m━━━━━━━━━━━━━━━━━━━━━━━━━━━━━━━━━━━━━━━━\u001b[0m \u001b[32m3.3/3.3 MB\u001b[0m \u001b[31m35.7 MB/s\u001b[0m eta \u001b[36m0:00:00\u001b[0m\n",
            "\u001b[?25h"
          ]
        }
      ],
      "source": [
        "!pip install -q google-genai==1.18.0 langchain==0.3.25 langchain-google-genai==2.1.5 langchain-community==0.3.24 duckduckgo-search==8.0.2"
      ]
    },
    {
      "cell_type": "code",
      "source": [
        "import os\n",
        "\n",
        "from langchain.agents import load_tools, Tool, AgentExecutor, create_react_agent\n",
        "from langchain.tools import DuckDuckGoSearchResults\n",
        "from langchain_core.prompts.prompt import PromptTemplate\n",
        "from langchain_google_genai import ChatGoogleGenerativeAI"
      ],
      "metadata": {
        "id": "Xuw6SxDKbng5"
      },
      "execution_count": null,
      "outputs": []
    },
    {
      "cell_type": "markdown",
      "source": [
        "以下のページを参考に、APIキーを取得しましょう。\n",
        "\n",
        "- [Gemini API キーを取得する](https://ai.google.dev/gemini-api/docs/api-key?hl=ja)\n",
        "\n",
        "APIにはレート制限があります。詳細については、以下のページを参照してください。\n",
        "\n",
        "- [レート制限](https://ai.google.dev/gemini-api/docs/rate-limits?hl=ja)"
      ],
      "metadata": {
        "id": "RypfUW9NcdpA"
      }
    },
    {
      "cell_type": "code",
      "source": [
        "os.environ[\"GOOGLE_API_KEY\"] = \"APIキーを貼り付け\""
      ],
      "metadata": {
        "id": "AcppiqTwb84L"
      },
      "execution_count": 2,
      "outputs": []
    },
    {
      "cell_type": "markdown",
      "source": [
        "次に、LangChainからGeminiを利用するために、`ChatGoogleGenerativeAI`をインスタンス化します。"
      ],
      "metadata": {
        "id": "NZgSy8h2c6SG"
      }
    },
    {
      "cell_type": "code",
      "source": [
        "llm = ChatGoogleGenerativeAI(\n",
        "    model=\"gemini-2.0-flash\",\n",
        "    temperature=0,\n",
        ")"
      ],
      "metadata": {
        "id": "zSpvu3S3Wxh2"
      },
      "execution_count": 7,
      "outputs": []
    },
    {
      "cell_type": "markdown",
      "source": [
        "動作確認をしておきます。以下では、英語を日本語に翻訳する指示をしています。"
      ],
      "metadata": {
        "id": "O25AbnTRcpxC"
      }
    },
    {
      "cell_type": "code",
      "source": [
        "messages = [\n",
        "    (\n",
        "        \"system\",\n",
        "        \"You are a helpful assistant that translates English to Japanese. Translate the user sentence.\",\n",
        "    ),\n",
        "    (\n",
        "        \"human\",\n",
        "        \"I love programming.\"\n",
        "    ),\n",
        "]\n",
        "llm.invoke(messages)"
      ],
      "metadata": {
        "id": "STJzs80PW5Yx",
        "colab": {
          "base_uri": "https://localhost:8080/"
        },
        "outputId": "87474b69-c358-45b8-9c37-99812cb625d3"
      },
      "execution_count": 9,
      "outputs": [
        {
          "output_type": "execute_result",
          "data": {
            "text/plain": [
              "AIMessage(content='プログラミングが大好きです。', additional_kwargs={}, response_metadata={'prompt_feedback': {'block_reason': 0, 'safety_ratings': []}, 'finish_reason': 'STOP', 'model_name': 'gemini-2.0-flash', 'safety_ratings': []}, id='run--967a964e-1426-4947-9a78-2c5e6a023783-0', usage_metadata={'input_tokens': 20, 'output_tokens': 7, 'total_tokens': 27, 'input_token_details': {'cache_read': 0}})"
            ]
          },
          "metadata": {},
          "execution_count": 9
        }
      ]
    },
    {
      "cell_type": "markdown",
      "source": [
        "以降は、Geminiのモデルを使う点以外は本書の説明と同じです。"
      ],
      "metadata": {
        "id": "Ds5g2PopdGza"
      }
    },
    {
      "cell_type": "code",
      "source": [
        "react_template = \"\"\"以下の質問に対してできる限り良い回答をしてください。次のツールにアクセスできます：\n",
        "\n",
        "{tools}\n",
        "\n",
        "以下の形式を使用してください：\n",
        "\n",
        "Question: あなたが回答する必要のある質問\n",
        "Thought: 何をすべきか常に考える\n",
        "Action: 取るべき行動。以下のいずれかから選択します [{tool_names}]\n",
        "Action Input: 行動に対する入力\n",
        "Observation: 行動の結果\n",
        "...(この思考/行動/行動の入力/観察結果はN回繰り返すことができます)\n",
        "Thought: 最終回答がわかりました\n",
        "Final Answer: 元の質問に対する最終回答\n",
        "\n",
        "開始してください！\n",
        "\n",
        "Question: {input}\n",
        "Thought:{agent_scratchpad}\"\"\"\n",
        "\n",
        "prompt = PromptTemplate(\n",
        "    template=react_template,\n",
        "    input_variables=[\"tools\", \"tool_names\", \"input\", \"agent_scratchpad\"]\n",
        ")"
      ],
      "metadata": {
        "id": "qutHSzxzZ-X5"
      },
      "execution_count": 10,
      "outputs": []
    },
    {
      "cell_type": "code",
      "source": [
        "search = DuckDuckGoSearchResults()\n",
        "search_tool = Tool(\n",
        "  name=\"search\",\n",
        "  description=\"Web検索エンジン。一般的な質問に対する検索エンジンとして使用する。\",\n",
        "  func=search.run,\n",
        ")\n",
        "tools = load_tools([\"llm-math\"], llm=llm)\n",
        "tools.append(search_tool)"
      ],
      "metadata": {
        "id": "8N13q7rcaOCM"
      },
      "execution_count": 15,
      "outputs": []
    },
    {
      "cell_type": "code",
      "source": [
        "agent = create_react_agent(llm, tools, prompt)\n",
        "agent_executor = AgentExecutor(\n",
        "agent=agent, tools=tools, verbose=True, handle_parsing_errors=True )"
      ],
      "metadata": {
        "id": "QRQblSkxaZ_c"
      },
      "execution_count": 16,
      "outputs": []
    },
    {
      "cell_type": "code",
      "source": [
        "agent_executor.invoke(\n",
        "    {\"input\": \"MacBook Proの現在の価格はUSDでいくらですか? また、為替レートが1USD = 150JPYの場合、JPYではいくらになりますか?\"}\n",
        ")"
      ],
      "metadata": {
        "colab": {
          "base_uri": "https://localhost:8080/"
        },
        "id": "TYhVnuF1apzJ",
        "outputId": "49facbb5-0c00-45c9-b7bc-750a2da2f3b3"
      },
      "execution_count": 17,
      "outputs": [
        {
          "output_type": "stream",
          "name": "stdout",
          "text": [
            "\n",
            "\n",
            "\u001b[1m> Entering new AgentExecutor chain...\u001b[0m\n",
            "\u001b[32;1m\u001b[1;3mMacBook Proの現在の価格をUSDで調べ、USDからJPYへの換算を行う必要がある。\n",
            "Action: search\n",
            "Action Input: \"MacBook Pro price USD\"\u001b[0m\u001b[33;1m\u001b[1;3msnippet: Best MacBook Pro deals for June 2025. Save up to $500 on Apple 14-inch & 16-inch laptops with deals on every M4 model & clearance prices on M3 specs., title: Best MacBook Pro Deals for June 2025 | Save up to $500 - AppleInsider, link: https://appleinsider.com/deals/best-macbook-pro-deals, snippet: Retail MacBook Pro 14-inch prices start at $1,999. But check in frequently with AppleInsider to find the best 14-inch MacBook Pro deals that deliver the lowest and cheapest prices on every configuration. Configurations Discount Price Alert; M2 Pro (10-core CPU, 16-core GPU), 16GB, 512GB, Space Gray: $1,999:, title: MacBook Pro 14-inch M2 Pro & M2 Max Prices - AppleInsider, link: https://prices.appleinsider.com/macbook-pro-14-inch-2023, snippet: According to an article from CNET, the base price for the 14-inch M2 MacBook Pro starts at approximately $1,999 (≈3.3 weeks locked to your job at $15/hour). For the 16-inch model, prices begin at around $2,499 (≈4.2 weeks of continuous work at a $15/hour wage). These prices reflect the latest models available as of November 2024, with ..., title: How Much Does A MacBook Pro Cost? - The Pricer, link: https://www.thepricer.org/how-much-does-a-macbook-pro-cost/, snippet: This stellar MacBook deal knocks a staggering $300 off on the fan-favorite Apple MacBook Pro 14 with M3 Pro Chip. Launch date: October 2023 Price history: This is the lowest price we've ever seen ..., title: The MacBook Pro 14 with M3 Pro dips $300 to its all-time-low price ..., link: https://www.laptopmag.com/laptops/macbooks/the-macbook-pro-14-with-m3-pro-dips-dollar300-to-its-all-time-low-price-right-before-school-starts\u001b[0m\u001b[32;1m\u001b[1;3mMacBook Proの価格はモデルによって異なり、14インチモデルは1,999ドルから、16インチモデルは2,499ドルからとなっている。次に、USDからJPYへの換算を行う。\n",
            "Action: Calculator\n",
            "Action Input: 1999 * 150\u001b[0m\u001b[36;1m\u001b[1;3mAnswer: 299850\u001b[0m\u001b[32;1m\u001b[1;3mAction: Calculator\n",
            "Action Input: 2499 * 150\u001b[0m\u001b[36;1m\u001b[1;3mAnswer: 374850\u001b[0m\u001b[32;1m\u001b[1;3mFinal Answer: MacBook Proの価格はモデルによって異なり、14インチモデルは1,999ドルから、16インチモデルは2,499ドルからとなっています。為替レートが1USD = 150JPYの場合、14インチモデルは約299,850円、16インチモデルは約374,850円になります。\u001b[0m\n",
            "\n",
            "\u001b[1m> Finished chain.\u001b[0m\n"
          ]
        },
        {
          "output_type": "execute_result",
          "data": {
            "text/plain": [
              "{'input': 'MacBook Proの現在の価格はUSDでいくらですか? また、為替レートが1USD = 150JPYの場合、JPYではいくらになりますか?',\n",
              " 'output': 'MacBook Proの価格はモデルによって異なり、14インチモデルは1,999ドルから、16インチモデルは2,499ドルからとなっています。為替レートが1USD = 150JPYの場合、14インチモデルは約299,850円、16インチモデルは約374,850円になります。'}"
            ]
          },
          "metadata": {},
          "execution_count": 17
        }
      ]
    },
    {
      "cell_type": "markdown",
      "source": [
        "## 参考資料\n",
        "\n",
        "- [ChatGoogleGenerativeAI](https://python.langchain.com/docs/integrations/chat/google_generative_ai/)\n",
        "- [Gemini API キーを取得する](https://ai.google.dev/gemini-api/docs/api-key?hl=ja)\n",
        "- [Google Gen AI SDK](https://github.com/googleapis/python-genai)\n",
        "- [レート制限](https://ai.google.dev/gemini-api/docs/rate-limits?hl=ja)"
      ],
      "metadata": {
        "id": "IC98rfopbI96"
      }
    },
    {
      "cell_type": "code",
      "source": [],
      "metadata": {
        "id": "c8LwY_LSdYhZ"
      },
      "execution_count": null,
      "outputs": []
    }
  ]
}